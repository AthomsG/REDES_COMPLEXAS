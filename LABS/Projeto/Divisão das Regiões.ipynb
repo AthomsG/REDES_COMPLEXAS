{
 "cells": [
  {
   "cell_type": "code",
   "execution_count": 91,
   "metadata": {},
   "outputs": [],
   "source": [
    "import numpy as np\n",
    "import matplotlib.pyplot as plt"
   ]
  },
  {
   "cell_type": "code",
   "execution_count": 92,
   "metadata": {},
   "outputs": [],
   "source": [
    "N = 100"
   ]
  },
  {
   "cell_type": "code",
   "execution_count": 93,
   "metadata": {},
   "outputs": [],
   "source": [
    "def make_matrix(N):\n",
    "    matrix = list()\n",
    "\n",
    "    for i in range(N):\n",
    "        linha = list()\n",
    "        for j in range(N):\n",
    "            linha.append(0)\n",
    "        matrix.append(linha)\n",
    "        \n",
    "    return matrix"
   ]
  },
  {
   "cell_type": "code",
   "execution_count": 114,
   "metadata": {},
   "outputs": [],
   "source": [
    "def make_city(N, ext_edge, int_edge):  #int_edge has to be greater than ext_edge\n",
    "    matrix = make_matrix(N)\n",
    "\n",
    "    init        = ext_edge\n",
    "    aresta      = N-init\n",
    "\n",
    "    for i in range(N):\n",
    "        for j in range(N):\n",
    "            if (i >= init-1 and i <= init-1 + aresta-init+1) and (j >= init-1 and j <= init-1 + aresta-init+1):\n",
    "                matrix[i][j] = 1\n",
    "\n",
    "    init        = int_edge\n",
    "    aresta      = N-init\n",
    "\n",
    "    for i in range(N):\n",
    "        for j in range(N):\n",
    "            if (i >= init-1 and i <= init-1 + aresta-init+1) and (j >= init-1 and j <= init-1 + aresta-init+1):\n",
    "                matrix[i][j] = 2"
   ]
  },
  {
   "cell_type": "code",
   "execution_count": 116,
   "metadata": {},
   "outputs": [],
   "source": [
    "make_city(N, ext_edge=10, int_edge=40)"
   ]
  },
  {
   "cell_type": "code",
   "execution_count": 117,
   "metadata": {},
   "outputs": [
    {
     "data": {
      "text/plain": [
       "<matplotlib.image.AxesImage at 0x7fc92df038d0>"
      ]
     },
     "execution_count": 117,
     "metadata": {},
     "output_type": "execute_result"
    },
    {
     "data": {
      "image/png": "[encoded data removed]",
      "text/plain": [
       "<Figure size 432x288 with 1 Axes>"
      ]
     },
     "metadata": {
      "needs_background": "light"
     },
     "output_type": "display_data"
    }
   ],
   "source": [
    "plt.imshow(main_matrix, cmap='plasma')"
   ]
  }
 ],
 "metadata": {
  "kernelspec": {
   "display_name": "Python 3",
   "language": "python",
   "name": "python3"
  },
  "language_info": {
   "codemirror_mode": {
    "name": "ipython",
    "version": 3
   },
   "file_extension": ".py",
   "mimetype": "text/x-python",
   "name": "python",
   "nbconvert_exporter": "python",
   "pygments_lexer": "ipython3",
   "version": "3.7.4"
  }
 },
 "nbformat": 4,
 "nbformat_minor": 2
}
