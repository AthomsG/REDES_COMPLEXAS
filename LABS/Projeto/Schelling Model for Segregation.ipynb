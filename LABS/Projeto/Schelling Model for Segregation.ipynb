{
 "cells": [
  {
   "cell_type": "markdown",
   "metadata": {},
   "source": [
    "# Schelling's model of segregation"
   ]
  },
  {
   "cell_type": "markdown",
   "metadata": {},
   "source": [
    "Described [here](https://en.wikipedia.org/wiki/Schelling%27s_model_of_segregation).\n",
    "\n",
    "Implementation method [here](http://nifty.stanford.edu/2014/mccown-schelling-model-segregation/)."
   ]
  },
  {
   "cell_type": "code",
   "execution_count": 1,
   "metadata": {},
   "outputs": [],
   "source": [
    "import numpy as np\n",
    "import matplotlib.pyplot as plt\n",
    "import random as rd"
   ]
  },
  {
   "cell_type": "markdown",
   "metadata": {},
   "source": [
    "INITIAL VALUES FOR VARIABLES"
   ]
  },
  {
   "cell_type": "code",
   "execution_count": 2,
   "metadata": {},
   "outputs": [],
   "source": [
    "N  = 10\n",
    "\n",
    "density = 0.5  #starting percentage\n",
    "f1      = 0.4  #fraction of '1' in starting population\n",
    "f_1     = 1-f1 #fraction of '-1' in starting population\n",
    "\n",
    "t  =  0.5      #percentage of neighbourhood that must be like the agent\n",
    "\n"
   ]
  },
  {
   "cell_type": "code",
   "execution_count": 3,
   "metadata": {},
   "outputs": [],
   "source": [
    "matrix = list()\n",
    "\n",
    "for i in range(N):\n",
    "    linha = list()\n",
    "    for j in range(N):\n",
    "        linha.append(0)\n",
    "    matrix.append(linha)\n",
    "        "
   ]
  },
  {
   "cell_type": "code",
   "execution_count": 4,
   "metadata": {},
   "outputs": [],
   "source": [
    "for linha in range(len(matrix)):\n",
    "    for coluna in range(len(matrix[linha])):\n",
    "        if (rd.random() <= density):\n",
    "            if (rd.random() <= f1):\n",
    "                matrix[linha][coluna] = 1\n",
    "            else:\n",
    "                matrix[linha][coluna] = -1\n",
    "    "
   ]
  },
  {
   "cell_type": "code",
   "execution_count": 6,
   "metadata": {},
   "outputs": [
    {
     "data": {
      "text/plain": [
       "<matplotlib.image.AxesImage at 0x7f7ee8799a50>"
      ]
     },
     "execution_count": 6,
     "metadata": {},
     "output_type": "execute_result"
    },
    {
     "data": {
      "image/png": "[encoded data removed]",
      "text/plain": [
       "<Figure size 432x288 with 1 Axes>"
      ]
     },
     "metadata": {
      "needs_background": "light"
     },
     "output_type": "display_data"
    }
   ],
   "source": [
    "plt.imshow(matrix, cmap='plasma')\n",
    "\n",
    "#0  Vermelho\n",
    "#1  Amarelo\n",
    "#-1 Azul"
   ]
  },
  {
   "cell_type": "code",
   "execution_count": 7,
   "metadata": {},
   "outputs": [],
   "source": [
    "def get_neighbours(coordinates, N):\n",
    "    neighbours = list()\n",
    "    n_range    = [-1, 0, 1]\n",
    "    [x, y]     = coordinates\n",
    "    \n",
    "    for i in n_range:\n",
    "        for j in n_range:\n",
    "            if ((x+i >= 0 and x+i < N) and (y+j >= 0 and y+j < N)) and (not (i == 0 and j == 0)):\n",
    "                neighbours.append([coordinates[0]+i, coordinates[1]+j])\n",
    "                  \n",
    "    return neighbours\n",
    "    \n",
    "def check_neighbours(matrix, coordinates):\n",
    "    N = len(matrix)\n",
    "    neighbours = get_neighbours(coordinates,N)\n",
    "    content = list()\n",
    "    \n",
    "    content = [matrix[pos[0]][pos[1]] for pos in neighbours]\n",
    "    \n",
    "    return content"
   ]
  },
  {
   "cell_type": "code",
   "execution_count": 8,
   "metadata": {},
   "outputs": [
    {
     "name": "stdout",
     "output_type": "stream",
     "text": [
      "[[0, 0], [0, 1], [0, 2], [1, 0], [1, 2], [2, 0], [2, 1], [2, 2]]\n"
     ]
    },
    {
     "data": {
      "text/plain": [
       "[0, 0, 0, 0, 0, -1, 1, -1]"
      ]
     },
     "execution_count": 8,
     "metadata": {},
     "output_type": "execute_result"
    }
   ],
   "source": [
    "print(get_neighbours([1,1],N))\n",
    "check_neighbours(matrix,[1,1])"
   ]
  }
 ],
 "metadata": {
  "kernelspec": {
   "display_name": "Python 3",
   "language": "python",
   "name": "python3"
  },
  "language_info": {
   "codemirror_mode": {
    "name": "ipython",
    "version": 3
   },
   "file_extension": ".py",
   "mimetype": "text/x-python",
   "name": "python",
   "nbconvert_exporter": "python",
   "pygments_lexer": "ipython3",
   "version": "3.7.4"
  }
 },
 "nbformat": 4,
 "nbformat_minor": 2
}
