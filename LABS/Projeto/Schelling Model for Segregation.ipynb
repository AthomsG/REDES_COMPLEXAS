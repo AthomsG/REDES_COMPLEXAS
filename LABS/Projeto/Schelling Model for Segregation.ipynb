{
 "cells": [
  {
   "cell_type": "markdown",
   "metadata": {},
   "source": [
    "# Schelling's model of segregation"
   ]
  },
  {
   "cell_type": "markdown",
   "metadata": {},
   "source": [
    "Described [here](https://en.wikipedia.org/wiki/Schelling%27s_model_of_segregation).\n",
    "\n",
    "Implementation method [here](http://nifty.stanford.edu/2014/mccown-schelling-model-segregation/)."
   ]
  },
  {
   "cell_type": "code",
   "execution_count": 1,
   "metadata": {},
   "outputs": [],
   "source": [
    "import numpy as np\n",
    "import matplotlib.pyplot as plt\n",
    "import random as rd"
   ]
  },
  {
   "cell_type": "markdown",
   "metadata": {},
   "source": [
    "INITIAL VALUES FOR VARIABLES"
   ]
  },
  {
   "cell_type": "code",
   "execution_count": 2,
   "metadata": {},
   "outputs": [],
   "source": [
    "N  = 10\n",
    "\n",
    "density = 0.5  #starting percentage\n",
    "f1      = 0.4  #fraction of '1' in starting population\n",
    "f_1     = 1-f1 #fraction of '-1' in starting population\n",
    "\n",
    "t  =  0.5      #percentage of neighbourhood that must be like the agent\n",
    "\n",
    "# define color map \n",
    "color_map = {-1: np.array([255, 0, 0]), # red\n",
    "             0: np.array([255, 255, 255]), # green\n",
    "             1: np.array([0, 0, 255])} # blue "
   ]
  },
  {
   "cell_type": "code",
   "execution_count": 3,
   "metadata": {},
   "outputs": [],
   "source": [
    "#initialize matrix\n",
    "matrix = list()\n",
    "\n",
    "for i in range(N):\n",
    "    linha = list()\n",
    "    for j in range(N):\n",
    "        linha.append(0)\n",
    "    matrix.append(linha)       "
   ]
  },
  {
   "cell_type": "code",
   "execution_count": 4,
   "metadata": {},
   "outputs": [],
   "source": [
    "#fill matrix\n",
    "for linha in range(len(matrix)):\n",
    "    for coluna in range(len(matrix[linha])):\n",
    "        if (rd.random() <= density):\n",
    "            if (rd.random() <= f1):\n",
    "                matrix[linha][coluna] = 1\n",
    "            else:\n",
    "                matrix[linha][coluna] = -1"
   ]
  },
  {
   "cell_type": "markdown",
   "metadata": {},
   "source": [
    "Code to manipulate color from [here](https://stackoverflow.com/questions/37719304/python-imshow-set-certain-value-to-defined-color)."
   ]
  },
  {
   "cell_type": "code",
   "execution_count": 5,
   "metadata": {},
   "outputs": [],
   "source": [
    "def print_matrix(matrix):\n",
    "    # make a 3d numpy array that has a color channel dimension   \n",
    "    data_3d = np.ndarray(shape=(N, N, 3), dtype=int)\n",
    "    for i in range(0, N):\n",
    "        for j in range(0, N):\n",
    "            data_3d[i][j] = color_map[matrix[i][j]]\n",
    "\n",
    "    plt.imshow(data_3d)"
   ]
  },
  {
   "cell_type": "code",
   "execution_count": 6,
   "metadata": {},
   "outputs": [
    {
     "data": {
      "image/png": "[encoded data removed]",
      "text/plain": [
       "<Figure size 432x288 with 1 Axes>"
      ]
     },
     "metadata": {
      "needs_background": "light"
     },
     "output_type": "display_data"
    }
   ],
   "source": [
    "print_matrix(matrix)"
   ]
  },
  {
   "cell_type": "code",
   "execution_count": 7,
   "metadata": {},
   "outputs": [],
   "source": [
    "def get_neighbours(coordinates, N):\n",
    "    neighbours = list()\n",
    "    n_range    = [-1, 0, 1]\n",
    "    [x, y]     = coordinates\n",
    "    \n",
    "    for i in n_range:\n",
    "        for j in n_range:\n",
    "            if ((x+i >= 0 and x+i < N) and (y+j >= 0 and y+j < N)) and (not (i == 0 and j == 0)):\n",
    "                neighbours.append([coordinates[0]+i, coordinates[1]+j])\n",
    "                  \n",
    "    return neighbours\n",
    "\n",
    "def get_empty_space(matrix):\n",
    "    empty_coords = list()\n",
    "    for linha in range(len(matrix)):\n",
    "        for coluna in range(len(matrix)):\n",
    "            if matrix[linha][coluna] == 0:\n",
    "                empty_coords.append([linha, coluna])\n",
    "            \n",
    "def check_neighbours(coordinates, matrix):\n",
    "    N = len(matrix)\n",
    "    neighbours = get_neighbours(coordinates,N)\n",
    "    content = list()\n",
    "    \n",
    "    content = [matrix[pos[0]][pos[1]] for pos in neighbours]\n",
    "    \n",
    "    return content"
   ]
  },
  {
   "cell_type": "code",
   "execution_count": 8,
   "metadata": {},
   "outputs": [
    {
     "name": "stdout",
     "output_type": "stream",
     "text": [
      "[[0, 0], [0, 1], [0, 2], [1, 0], [1, 2], [2, 0], [2, 1], [2, 2]]\n"
     ]
    },
    {
     "data": {
      "text/plain": [
       "[0, -1, 0, 0, 0, -1, -1, -1]"
      ]
     },
     "execution_count": 8,
     "metadata": {},
     "output_type": "execute_result"
    }
   ],
   "source": [
    "print(get_neighbours([1,1], N))\n",
    "check_neighbours([1, 1], matrix)"
   ]
  },
  {
   "cell_type": "markdown",
   "metadata": {},
   "source": [
    "We now need to find the dissatisfied agents"
   ]
  },
  {
   "cell_type": "code",
   "execution_count": 9,
   "metadata": {},
   "outputs": [],
   "source": [
    "#algo return 1 if agent gathers conditions that satisfy dissatisfaction and 0 if it doesn't\n",
    "\n",
    "# algo(coordinates, matrix)\n",
    "def get_dissatisfied(matrix, algo):\n",
    "    dissatisfied = list()\n",
    "    for linha in range(len(matrix)):\n",
    "        for coluna in range(len(matrix)):\n",
    "            if algo([linha, coluna], matrix):\n",
    "                dissatisfied.append([linha, coluna])\n",
    "    return dissatisfied"
   ]
  },
  {
   "cell_type": "markdown",
   "metadata": {},
   "source": [
    "Simple algorithm that checks if theres a minimum percentage of t neighbours around"
   ]
  },
  {
   "cell_type": "code",
   "execution_count": 10,
   "metadata": {},
   "outputs": [],
   "source": [
    "def dis_algo(coord, matrix):\n",
    "    agent_val = matrix[coord[0]][coord[1]]\n",
    "    n_agents  = check_neighbours(coord, matrix)\n",
    "    \n",
    "    n_1 = 0\n",
    "    n0  = 0\n",
    "    n1  = 0\n",
    "    \n",
    "    for agent in n_agents:\n",
    "        if agent == -1:\n",
    "            n_1 += 1\n",
    "        if agent == 0:\n",
    "            n0  += 1\n",
    "        if agent == 1:\n",
    "            n1  += 1\n",
    "            \n",
    "    val_sum = {-1:n_1, 0:n0, 1:n1}\n",
    "       \n",
    "    if val_sum[agent_val]/(n_1 + n0 + n1) < t:\n",
    "        return 1\n",
    "    return 0"
   ]
  },
  {
   "cell_type": "code",
   "execution_count": 11,
   "metadata": {},
   "outputs": [],
   "source": [
    "def iterate(matrix):\n",
    "    dissatisfied = get_dissatisfied(matrix, dis_algo)\n",
    "    empy_space   = get_empty_space(matrix)\n",
    "    \n",
    "    "
   ]
  },
  {
   "cell_type": "code",
   "execution_count": 12,
   "metadata": {},
   "outputs": [],
   "source": [
    "#generates 100 vals between 0 and 3\n",
    "\n",
    "vals = [round(rd.uniform(-0.5, 3.5), 0) for i in range(100)]"
   ]
  }
 ],
 "metadata": {
  "kernelspec": {
   "display_name": "Python 3",
   "language": "python",
   "name": "python3"
  },
  "language_info": {
   "codemirror_mode": {
    "name": "ipython",
    "version": 3
   },
   "file_extension": ".py",
   "mimetype": "text/x-python",
   "name": "python",
   "nbconvert_exporter": "python",
   "pygments_lexer": "ipython3",
   "version": "3.7.4"
  }
 },
 "nbformat": 4,
 "nbformat_minor": 2
}
