{
 "cells": [
  {
   "cell_type": "markdown",
   "metadata": {},
   "source": [
    "# Schelling's model of segregation"
   ]
  },
  {
   "cell_type": "markdown",
   "metadata": {},
   "source": [
    "Described [here](https://en.wikipedia.org/wiki/Schelling%27s_model_of_segregation).\n",
    "\n",
    "Implementation method [here](http://nifty.stanford.edu/2014/mccown-schelling-model-segregation/)."
   ]
  },
  {
   "cell_type": "code",
   "execution_count": 42,
   "metadata": {},
   "outputs": [],
   "source": [
    "import numpy as np\n",
    "import matplotlib.pyplot as plt\n",
    "from matplotlib.animation import FuncAnimation\n",
    "import random as rd"
   ]
  },
  {
   "cell_type": "markdown",
   "metadata": {},
   "source": [
    "INITIAL VALUES FOR VARIABLES"
   ]
  },
  {
   "cell_type": "code",
   "execution_count": 43,
   "metadata": {},
   "outputs": [],
   "source": [
    "N  = 10\n",
    "\n",
    "density = 0.5  #starting percentage\n",
    "f1      = 0.4  #fraction of '1' in starting population\n",
    "f_1     = 1-f1 #fraction of '-1' in starting population\n",
    "\n",
    "t  =  0.5      #percentage of neighbourhood that must be like the agent\n",
    "\n",
    "# define color map \n",
    "color_map = {-1: np.array([255, 0, 0]), # red\n",
    "             0: np.array([255, 255, 255]), # green\n",
    "             1: np.array([0, 0, 255])} # blue "
   ]
  },
  {
   "cell_type": "code",
   "execution_count": 17,
   "metadata": {},
   "outputs": [],
   "source": [
    "#initialize matrix\n",
    "matrix = list()\n",
    "\n",
    "for i in range(N):\n",
    "    linha = list()\n",
    "    for j in range(N):\n",
    "        linha.append(0)\n",
    "    matrix.append(linha)       "
   ]
  },
  {
   "cell_type": "code",
   "execution_count": 18,
   "metadata": {},
   "outputs": [],
   "source": [
    "#fill matrix\n",
    "for linha in range(len(matrix)):\n",
    "    for coluna in range(len(matrix[linha])):\n",
    "        if (rd.random() <= density):\n",
    "            if (rd.random() <= f1):\n",
    "                matrix[linha][coluna] = 1\n",
    "            else:\n",
    "                matrix[linha][coluna] = -1"
   ]
  },
  {
   "cell_type": "markdown",
   "metadata": {},
   "source": [
    "Code to manipulate color from [here](https://stackoverflow.com/questions/37719304/python-imshow-set-certain-value-to-defined-color)."
   ]
  },
  {
   "cell_type": "code",
   "execution_count": 19,
   "metadata": {},
   "outputs": [],
   "source": [
    "def print_matrix(matrix):\n",
    "    # make a 3d numpy array that has a color channel dimension   \n",
    "    data_3d = np.ndarray(shape=(N, N, 3), dtype=int)\n",
    "    for i in range(0, N):\n",
    "        for j in range(0, N):\n",
    "            data_3d[i][j] = color_map[matrix[i][j]]\n",
    "\n",
    "    plt.imshow(data_3d)"
   ]
  },
  {
   "cell_type": "code",
   "execution_count": 20,
   "metadata": {},
   "outputs": [
    {
     "data": {
      "image/png": "[encoded data removed]",
      "text/plain": [
       "<Figure size 432x288 with 1 Axes>"
      ]
     },
     "metadata": {
      "needs_background": "light"
     },
     "output_type": "display_data"
    }
   ],
   "source": [
    "print_matrix(matrix)"
   ]
  },
  {
   "cell_type": "code",
   "execution_count": 21,
   "metadata": {},
   "outputs": [],
   "source": [
    "# returns list of [x,y] coordinates of the neighbours of a certain point w/ coordinates 'coordinates'\n",
    "# N being the dimension of the matrix (NxN)\n",
    "def get_neighbours(coordinates, N):\n",
    "    neighbours = list()\n",
    "    n_range    = [-1, 0, 1]\n",
    "    [x, y]     = coordinates\n",
    "    \n",
    "    for i in n_range:\n",
    "        for j in n_range:\n",
    "            if ((x+i >= 0 and x+i < N) and (y+j >= 0 and y+j < N)) and (not (i == 0 and j == 0)):\n",
    "                neighbours.append([x+i, y+j])\n",
    "                  \n",
    "    return neighbours\n",
    "\n",
    "# returns list of coordinates of empty spaces in the matrix\n",
    "def get_empty_space(matrix):\n",
    "    empty_coords = list()\n",
    "    \n",
    "    for linha in range(len(matrix)):\n",
    "        for coluna in range(len(matrix)):\n",
    "            if matrix[linha][coluna] == 0:\n",
    "                empty_coords.append([linha, coluna])\n",
    "                \n",
    "    return empty_coords\n",
    "                \n",
    "# returns list of 'races' of the neighbours of a certain point w/ coordinates 'coordinates'           \n",
    "def check_neighbours(coordinates, matrix):\n",
    "    N = len(matrix)\n",
    "    neighbours = get_neighbours(coordinates,N)\n",
    "    content = list()\n",
    "    \n",
    "    content = [matrix[pos[0]][pos[1]] for pos in neighbours]\n",
    "    \n",
    "    return content"
   ]
  },
  {
   "cell_type": "code",
   "execution_count": 22,
   "metadata": {},
   "outputs": [
    {
     "name": "stdout",
     "output_type": "stream",
     "text": [
      "[[0, 0], [0, 1], [0, 2], [1, 0], [1, 2], [2, 0], [2, 1], [2, 2]]\n",
      "[0, -1, 0, 1, -1, 0, 0, 0]\n",
      "57\n"
     ]
    }
   ],
   "source": [
    "print(get_neighbours([1,1], N))\n",
    "print(check_neighbours([1, 1], matrix))\n",
    "print(len(get_empty_space(matrix)))"
   ]
  },
  {
   "cell_type": "markdown",
   "metadata": {},
   "source": [
    "We now need to find the dissatisfied agents"
   ]
  },
  {
   "cell_type": "code",
   "execution_count": 23,
   "metadata": {},
   "outputs": [],
   "source": [
    "#algo return 1 if agent gathers conditions that satisfy dissatisfaction and 0 if it doesn't\n",
    "\n",
    "# algo(coordinates, matrix)\n",
    "def get_dissatisfied(matrix, algo):\n",
    "    dissatisfied = list()\n",
    "    for linha in range(len(matrix)):\n",
    "        for coluna in range(len(matrix)):\n",
    "            if algo([linha, coluna], matrix):\n",
    "                dissatisfied.append([linha, coluna])\n",
    "    return dissatisfied"
   ]
  },
  {
   "cell_type": "markdown",
   "metadata": {},
   "source": [
    "Simple algorithm that checks if theres a minimum percentage of t neighbours around"
   ]
  },
  {
   "cell_type": "code",
   "execution_count": 32,
   "metadata": {},
   "outputs": [],
   "source": [
    "# returns 1 if not satisfied (must be moved) and 0 if it is satisfied (will stay still)\n",
    "def is_not_satisfied(coord, matrix):\n",
    "    agent_val = matrix[coord[0]][coord[1]]\n",
    "    n_agents  = check_neighbours(coord, matrix)\n",
    "    \n",
    "    n_1 = 0\n",
    "    n0  = 0\n",
    "    n1  = 0\n",
    "    \n",
    "    for agent in n_agents:\n",
    "        if agent == -1:\n",
    "            n_1 += 1\n",
    "        if agent == 0:\n",
    "            n0  += 1\n",
    "        if agent == 1:\n",
    "            n1  += 1\n",
    "            \n",
    "    if (n_1 + n1) == 0:\n",
    "        return 0\n",
    "            \n",
    "    val_sum = {-1:n_1, 0:n0, 1:n1}\n",
    "       \n",
    "    if val_sum[agent_val]/(n_1 + n1) < t:\n",
    "        return 1\n",
    "    return 0"
   ]
  },
  {
   "cell_type": "code",
   "execution_count": 25,
   "metadata": {},
   "outputs": [],
   "source": [
    "# returns the new position of a dissatisfied agent; \n",
    "# several methods can be used; right now a random empty location is used\n",
    "def get_new_position(matrix):\n",
    "    empty_spaces = get_empty_space(matrix)\n",
    "    new_pos = rd.choice(empty_spaces)\n",
    "    return new_pos"
   ]
  },
  {
   "cell_type": "code",
   "execution_count": 26,
   "metadata": {},
   "outputs": [],
   "source": [
    "# returns list with:\n",
    "# 0: new matrix with all agents moved\n",
    "# 1: boolean that is True if agents were moved, false if matrix stayed the same\n",
    "def move_all_agents(c_matrix): # c_matrix = current matrix\n",
    "     # current matrix\n",
    "    new_matrix = c_matrix\n",
    "    were_moved = False\n",
    "    \n",
    "    # iterate on all the agents of the current matrix\n",
    "    for x in range(len(c_matrix)): # linhas\n",
    "        for y in range(len(c_matrix[x])): # colunas\n",
    "            \n",
    "            # check if agent not satisfied\n",
    "            if is_not_satisfied([x,y],c_matrix) == 1:\n",
    "                were_moved = True\n",
    "                # not satified: will be moved\n",
    "                new_pos = get_new_position(c_matrix)\n",
    "                new_matrix[new_pos[0]][new_pos[1]] = c_matrix[x][y] # new position takes agent's value\n",
    "                new_matrix[x][y] = 0 # old position is now free\n",
    "            \n",
    "            \n",
    "    # create output\n",
    "    outcome = list()\n",
    "    outcome.append(new_matrix)\n",
    "    outcome.append(were_moved)\n",
    "    \n",
    "    return outcome"
   ]
  },
  {
   "cell_type": "code",
   "execution_count": 34,
   "metadata": {},
   "outputs": [],
   "source": [
    "def run_simulation(matrix, n_max): # matrix - initial matrix // n_max - max number of iterations\n",
    "    iterations = list() # list of matrices (for all iterations)\n",
    "    iterations.append(matrix) # initial value is the initial matrix\n",
    "    \n",
    "    i = 0 # number of iterations\n",
    "    \n",
    "    for j in range(n_max):\n",
    "        c_matrix = iterations[-1]\n",
    "        outcome = move_all_agents(c_matrix)\n",
    "        if (outcome[1] == True):\n",
    "            i += 1\n",
    "            iterations.append(outcome[0])\n",
    "        else:\n",
    "            break\n",
    "    \n",
    "    print(\"Simulation finished! i = \", i)\n",
    "    \n",
    "    return iterations"
   ]
  },
  {
   "cell_type": "code",
   "execution_count": 28,
   "metadata": {},
   "outputs": [],
   "source": [
    "#generates 100 vals between 0 and 3\n",
    "\n",
    "vals = [round(rd.uniform(-0.5, 3.5), 0) for i in range(100)]"
   ]
  },
  {
   "cell_type": "code",
   "execution_count": 41,
   "metadata": {},
   "outputs": [
    {
     "name": "stdout",
     "output_type": "stream",
     "text": [
      "Simulation finished! i =  1000\n"
     ]
    }
   ],
   "source": [
    "iterations = run_simulation(matrix, 100)"
   ]
  },
  {
   "cell_type": "code",
   "execution_count": null,
   "metadata": {},
   "outputs": [],
   "source": []
  },
  {
   "cell_type": "code",
   "execution_count": null,
   "metadata": {},
   "outputs": [],
   "source": []
  }
 ],
 "metadata": {
  "kernelspec": {
   "display_name": "Python 3",
   "language": "python",
   "name": "python3"
  },
  "language_info": {
   "codemirror_mode": {
    "name": "ipython",
    "version": 3
   },
   "file_extension": ".py",
   "mimetype": "text/x-python",
   "name": "python",
   "nbconvert_exporter": "python",
   "pygments_lexer": "ipython3",
   "version": "3.8.8"
  }
 },
 "nbformat": 4,
 "nbformat_minor": 2
}
