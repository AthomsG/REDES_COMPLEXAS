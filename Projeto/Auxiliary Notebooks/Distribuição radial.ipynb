{
 "cells": [
  {
   "cell_type": "code",
   "execution_count": 25,
   "id": "87a968a5",
   "metadata": {},
   "outputs": [],
   "source": [
    "import numpy as np\n",
    "import matplotlib as mpl\n",
    "import matplotlib.pyplot as plt"
   ]
  },
  {
   "cell_type": "code",
   "execution_count": 36,
   "id": "258a2ef6",
   "metadata": {},
   "outputs": [
    {
     "name": "stdout",
     "output_type": "stream",
     "text": [
      "For N = 100 | N_agents = 7200\n"
     ]
    }
   ],
   "source": [
    "N        = 100\n",
    "density  = 0.9\n",
    "f1       = 0.8\n",
    "N_agents = int(N*N*density*f1) # or user input\n",
    "\n",
    "print(\"For N = \" + str(N) + \" | N_agents = \" + str(N_agents))\n",
    "\n",
    "color_map = {-1: np.array([255, 0, 0]), # red\n",
    "             0: np.array([255, 255, 255]), # green\n",
    "             1: np.array([0, 0, 255])} # blue"
   ]
  },
  {
   "cell_type": "code",
   "execution_count": 37,
   "id": "7a9182c5",
   "metadata": {},
   "outputs": [],
   "source": [
    "# Make matrix\n",
    "matrix = list()\n",
    "\n",
    "for i in range(N):\n",
    "    linha = list()\n",
    "    for j in range(N):\n",
    "        linha.append(0)\n",
    "    matrix.append(linha)"
   ]
  },
  {
   "cell_type": "code",
   "execution_count": 38,
   "id": "faf11b54",
   "metadata": {},
   "outputs": [],
   "source": [
    "offset = 1/2\n",
    "\n",
    "def get_r (i, j, N): #i - indice linha; j - indice coluna; N - dimensão matriz\n",
    "    return np.sqrt((i-(N/2 - offset))**2  +   (j-(N/2 - offset))**2)"
   ]
  },
  {
   "cell_type": "code",
   "execution_count": 39,
   "id": "86eea441",
   "metadata": {},
   "outputs": [],
   "source": [
    "r_matrix = list()\n",
    "\n",
    "for i in range(N):\n",
    "    linha_ = list()\n",
    "    for j in range(N):\n",
    "        linha_.append(get_r(i,j,N))\n",
    "    r_matrix.append(linha_)"
   ]
  },
  {
   "cell_type": "code",
   "execution_count": 43,
   "id": "928a0131",
   "metadata": {},
   "outputs": [
    {
     "name": "stdout",
     "output_type": "stream",
     "text": [
      "Zeros: 3 | Ones: 9997 | Total: 10000\n"
     ]
    }
   ],
   "source": [
    "# Fill matrix\n",
    "\n",
    "for agent in range(N_agents): # iterate on all agents to fill matrix (and make their r the lowest possible)\n",
    "    \n",
    "    #iterate on r_matrix\n",
    "    \n",
    "    r_lowest = r_matrix[0][0]\n",
    "    i_lowest = 0\n",
    "    j_lowest = 0\n",
    "    \n",
    "    for i in range(N):\n",
    "        for j in range(N):\n",
    "            if (r_matrix[i][j] < r_lowest) and (matrix[i][j] == 0):\n",
    "                r_lowest = r_matrix[i][j]\n",
    "                i_lowest = i\n",
    "                j_lowest = j\n",
    "    \n",
    "    if matrix[i_lowest][j_lowest] == 0:\n",
    "        matrix[i_lowest][j_lowest] = 1\n",
    "        #print(str(agent) + \") Filled!\",end='\\r')\n",
    "        \n",
    "# Test matrix\n",
    "\n",
    "ones = 0\n",
    "zeros = 0\n",
    "\n",
    "for i in range(N):\n",
    "    for j in range(N):\n",
    "        if matrix[i][j] == 0:\n",
    "            zeros += 1\n",
    "        if matrix[i][j] == 1:\n",
    "            ones += 1\n",
    "            \n",
    "print(\"Zeros: \" + str(zeros) + \" | Ones: \" + str(ones) + \" | Total: \" + str(zeros + ones))"
   ]
  },
  {
   "cell_type": "code",
   "execution_count": 41,
   "id": "467bd716",
   "metadata": {},
   "outputs": [],
   "source": [
    "def print_matrix(matrix, marker=False, save=False, filename=None):\n",
    "    N = len(matrix)\n",
    "    fig = plt.figure()\n",
    "    fig.set_size_inches(10, 10)\n",
    "    ax = fig.add_subplot(1, 1, 1)\n",
    "    data_3d = np.ndarray(shape=(N, N, 3), dtype=int)\n",
    "    for i in range(0, N):\n",
    "        for j in range(0, N):\n",
    "            data_3d[i][j] = color_map[matrix[i][j]]\n",
    "\n",
    "    if(marker):\n",
    "        x = [coord[1] for coord in marker]\n",
    "        y = [coord[0] for coord in marker]\n",
    "\n",
    "        ax.scatter(x, y, color='lime', s=300/N)\n",
    "\n",
    "    ax.imshow(data_3d)\n",
    "    ax.set_xticks([])\n",
    "    ax.set_yticks([])\n",
    "    if save:\n",
    "        fig.savefig(filename)\n",
    "    plt.show()"
   ]
  },
  {
   "cell_type": "code",
   "execution_count": 42,
   "id": "edca9404",
   "metadata": {},
   "outputs": [
    {
     "data": {
      "image/png": "[encoded data removed]",
      "text/plain": [
       "<Figure size 720x720 with 1 Axes>"
      ]
     },
     "metadata": {},
     "output_type": "display_data"
    }
   ],
   "source": [
    "print_matrix(matrix)"
   ]
  },
  {
   "cell_type": "code",
   "execution_count": 46,
   "id": "d38fc587",
   "metadata": {},
   "outputs": [
    {
     "name": "stdout",
     "output_type": "stream",
     "text": [
      "Average r: 53.107392341882665\n"
     ]
    }
   ],
   "source": [
    "# Measure r average\n",
    "\n",
    "r_average = 0\n",
    "\n",
    "for i in range(N):\n",
    "    for j in range(N):\n",
    "        if matrix[i][j] == 1:\n",
    "            r_average += r_matrix[i][j]\n",
    "            \n",
    "r_average = r_average/N_agents\n",
    "\n",
    "print(\"Average r: \" + str(r_average))"
   ]
  },
  {
   "cell_type": "code",
   "execution_count": 47,
   "id": "f07d26e1",
   "metadata": {},
   "outputs": [],
   "source": [
    "def get_r_average_sample_circle(N, density, f1, N_agents = N*N*density*f1):\n",
    "    \n",
    "    # Make matrix + r_matrix\n",
    "    matrix = list()\n",
    "    r_matrix = list()\n",
    "\n",
    "    for i in range(N):\n",
    "        linha = list()\n",
    "        linha_ = list()\n",
    "        for j in range(N):\n",
    "            linha.append(0)\n",
    "            linha_.append(get_r(i,j,N))\n",
    "        matrix.append(linha)\n",
    "        r_matrix.append(linha_)\n",
    "        \n",
    "    # Fill matrix\n",
    "    for agent in range(N_agents): # Iterate on all agents to fill matrix (and make their r the lowest possible)\n",
    "    \n",
    "        # Iterate on r_matrix\n",
    "    \n",
    "        r_lowest = r_matrix[0][0]\n",
    "        i_lowest = 0\n",
    "        j_lowest = 0\n",
    "    \n",
    "        for i in range(N):\n",
    "            for j in range(N):\n",
    "                if (r_matrix[i][j] < r_lowest) and (matrix[i][j] == 0):\n",
    "                    r_lowest = r_matrix[i][j]\n",
    "                    i_lowest = i\n",
    "                    j_lowest = j\n",
    "    \n",
    "        if matrix[i_lowest][j_lowest] == 0:\n",
    "            matrix[i_lowest][j_lowest] = 1\n",
    "            \n",
    "    # Compute r average\n",
    "    r_average = 0\n",
    "\n",
    "    for i in range(N):\n",
    "        for j in range(N):\n",
    "            if matrix[i][j] == 1:\n",
    "                r_average += r_matrix[i][j]\n",
    "            \n",
    "    return r_average/N_agents"
   ]
  },
  {
   "cell_type": "code",
   "execution_count": 60,
   "id": "f763fd88",
   "metadata": {},
   "outputs": [],
   "source": [
    "def sample_circles(N, f1s, density, N_agents = -1):\n",
    "    if N_agents == -1:\n",
    "        N_agents = [int(N*N*density*f1) for f1 in f1s]\n",
    "        \n",
    "    r_aves = list()\n",
    "    \n",
    "    for i in range(len(f1s)):\n",
    "        r_aves.append(get_r_average_sample_circle(N, density, f1s[i], N_agents[i]))\n",
    "    \n",
    "    return r_aves"
   ]
  },
  {
   "cell_type": "code",
   "execution_count": 61,
   "id": "01d9dd40",
   "metadata": {},
   "outputs": [
    {
     "name": "stdout",
     "output_type": "stream",
     "text": [
      "[4500, 4800, 5100, 5400]\n"
     ]
    },
    {
     "data": {
      "text/plain": [
       "[25.231348448834733, 26.05859677602108, 26.860696836721008, 27.639735207308103]"
      ]
     },
     "execution_count": 61,
     "metadata": {},
     "output_type": "execute_result"
    }
   ],
   "source": [
    "sample_circles(N,np.linspace(0.5,0.6,4),density)"
   ]
  }
 ],
 "metadata": {
  "kernelspec": {
   "display_name": "Python 3",
   "language": "python",
   "name": "python3"
  },
  "language_info": {
   "codemirror_mode": {
    "name": "ipython",
    "version": 3
   },
   "file_extension": ".py",
   "mimetype": "text/x-python",
   "name": "python",
   "nbconvert_exporter": "python",
   "pygments_lexer": "ipython3",
   "version": "3.8.8"
  }
 },
 "nbformat": 4,
 "nbformat_minor": 5
}
