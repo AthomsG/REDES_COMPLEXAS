{
 "cells": [
  {
   "cell_type": "code",
   "execution_count": null,
   "metadata": {},
   "outputs": [],
   "source": [
    "import numpy as np\n",
    "from scipy.stats import norm\n",
    "import matplotlib.mlab as mlab\n",
    "import matplotlib as mpl\n",
    "import matplotlib.pyplot as plt\n",
    "import random as rd\n",
    "#IMPLEMENTED FUNCTIONS\n",
    "from functions import make_matrix, get_tol_matrix, iteration, dis_algo, print_matrix, get_happiness, get_agents, get_r, save_data, run, get_r_average_sample_circle, sample_circles, get_r_circle, color_map, get_morin_index, average, get_sections, get_morin_index_section"
   ]
  },
  {
   "cell_type": "markdown",
   "metadata": {},
   "source": [
    "# Define system conditions"
   ]
  },
  {
   "cell_type": "code",
   "execution_count": null,
   "metadata": {},
   "outputs": [],
   "source": [
    "N       = 100 # MATRIX SIZE\n",
    "density = 0.9 # POPULATION DENSITY ON LATICE (rho)\n",
    "f1      = 0.7 # STARTING POPULATION PERCENTAGE FOR BLUE POPULATION (pB)\n",
    "tmin    = 0.1 # MINIMUM TOLERANCE (BORDER CONDITION ON MINIMUM R VALUE)\n",
    "tmax    = 0.9 # MAXIMUM TOLERANCE (BORDER CONDITION ON MAXIMUM R VALUE)"
   ]
  },
  {
   "cell_type": "code",
   "execution_count": null,
   "metadata": {},
   "outputs": [],
   "source": [
    "output = run(N=N, density=density, f1=f1, tmin=tmin, tmax=tmax)"
   ]
  },
  {
   "cell_type": "code",
   "execution_count": null,
   "metadata": {},
   "outputs": [],
   "source": [
    "print_matrix(output['matrix'])"
   ]
  },
  {
   "cell_type": "markdown",
   "metadata": {},
   "source": [
    "# Average r vs. pB"
   ]
  },
  {
   "cell_type": "code",
   "execution_count": null,
   "metadata": {},
   "outputs": [],
   "source": [
    "tmax = 0.9\n",
    "tmin = 0.1\n",
    "\n",
    "f1s = np.linspace(0.01, 0.99, 200)"
   ]
  },
  {
   "cell_type": "code",
   "execution_count": null,
   "metadata": {},
   "outputs": [],
   "source": [
    "avg_r_blu_ = list()\n",
    "avg_r_red_ = list()\n",
    "\n",
    "for f1 in f1s:\n",
    "    print('\\n' + str(round(f1, 2)) + '/' + '0.99')\n",
    "    output = run(N=N, density=density, f1=f1, measure_r_values=True, tmax=tmax, tmin=tmin)\n",
    "    \n",
    "    avg_r_red_.append(average(output['red_rs'][-1]))\n",
    "    avg_r_blu_.append(average(output['blu_rs'][-1]))"
   ]
  },
  {
   "cell_type": "code",
   "execution_count": null,
   "metadata": {},
   "outputs": [],
   "source": [
    "plt.plot(f1s, [r/(get_r(0, 0, N)) for r in avg_r_red_], '.', color='red')\n",
    "plt.plot(f1s, [r/(get_r(0, 0, N)) for r in avg_r_blu_], '.', color='blue')\n",
    "\n",
    "plt.ylim(0.4, 1)"
   ]
  },
  {
   "cell_type": "code",
   "execution_count": null,
   "metadata": {},
   "outputs": [],
   "source": [
    "avg_sampled_small = sample_circles(N,f1s,density)"
   ]
  },
  {
   "cell_type": "code",
   "execution_count": null,
   "metadata": {},
   "outputs": [],
   "source": [
    "#r_circle = [get_r_circle(N, density, f1_) for f1_ in f1s]"
   ]
  },
  {
   "cell_type": "code",
   "execution_count": null,
   "metadata": {},
   "outputs": [],
   "source": [
    "plt.plot(f1s, [r/(get_r(0, 0, N)) for r in avg_r_red_], '.', color='red')\n",
    "plt.plot(f1s, [r/(get_r(0, 0, N)) for r in avg_r_blu_], '.', color='blue')\n",
    "#plt.plot(f1s, [2*r/N for r in r_circle], color='green')\n",
    "plt.plot(f1s, [r/(get_r(0, 0, N)) for r in avg_sampled_small], '.', color='magenta')\n",
    "\n",
    "#plt.xlim(0.5, 1)\n",
    "#plt.ylim(0.3, 0.8)\n",
    "plt.grid()"
   ]
  },
  {
   "cell_type": "code",
   "execution_count": null,
   "metadata": {},
   "outputs": [],
   "source": [
    "ratio_sampled = list()\n",
    "ratio_th = list()\n",
    "\n",
    "for i in range(len(f1s)):\n",
    "    ratio_sampled.append(avg_r_blu_[i]/avg_sampled_small[i])\n",
    "    ratio_th.append(avg_r_blu_[i]/r_circle[i])"
   ]
  },
  {
   "cell_type": "code",
   "execution_count": null,
   "metadata": {},
   "outputs": [],
   "source": [
    "plt.plot(f1s, ratio_sampled, '.', color='red',label=\"exp. / teorico\")\n",
    "#plt.plot(f1s, ratio_th, '.', color='blue',label=\"exp. / teorico (expressao numerica)\")\n",
    "\n",
    "plt.xlim(0.4, 1)\n",
    "plt.ylim(0, 2.5)\n",
    "\n",
    "plt.xlabel(\"f1\")\n",
    "plt.ylabel(\"experimental / teorico\")\n",
    "\n",
    "plt.legend()"
   ]
  },
  {
   "cell_type": "markdown",
   "metadata": {},
   "source": [
    "Larger f1 sampling:"
   ]
  },
  {
   "cell_type": "code",
   "execution_count": null,
   "metadata": {},
   "outputs": [],
   "source": [
    "tmax = 0.9\n",
    "tmin = 0.1\n",
    "\n",
    "f1s_large = np.linspace(0.01, 0.99, 200)"
   ]
  },
  {
   "cell_type": "code",
   "execution_count": null,
   "metadata": {
    "scrolled": true
   },
   "outputs": [],
   "source": [
    "avg_r_blu_2 = list()\n",
    "avg_r_red_2 = list()\n",
    "\n",
    "for f1 in f1s_large:\n",
    "    print(str(round(f1, 2)) + '/' + '0.99')\n",
    "    output = run(N=2*N, density=density, f1=f1, measure_r_values=True, tmax=tmax, tmin=tmin)\n",
    "    \n",
    "    avg_r_red_2.append(average(output['red_rs'][-1]))\n",
    "    avg_r_blu_2.append(average(output['blu_rs'][-1]))"
   ]
  },
  {
   "cell_type": "code",
   "execution_count": null,
   "metadata": {},
   "outputs": [],
   "source": [
    "plt.plot(f1s_large, avg_r_red_2, '.', color='red')\n",
    "plt.plot(f1s_large, avg_r_blu_2, '.', color='blue')"
   ]
  },
  {
   "cell_type": "code",
   "execution_count": null,
   "metadata": {},
   "outputs": [],
   "source": [
    "plt.plot(f1s_large, [r/(get_r(0, 0, 2*N)) for r in avg_r_red_2], '.', color='red')\n",
    "plt.plot(f1s_large, [r/(get_r(0, 0, 2*N)) for r in avg_r_blu_2], '.', color='blue')"
   ]
  },
  {
   "cell_type": "code",
   "execution_count": null,
   "metadata": {},
   "outputs": [],
   "source": [
    "avg_sampled = sample_circles(2*N,f1s_large,density)"
   ]
  },
  {
   "cell_type": "code",
   "execution_count": null,
   "metadata": {},
   "outputs": [],
   "source": [
    "r_circle = [get_r_circle(2*N, density, f1_) for f1_ in f1s_large]"
   ]
  },
  {
   "cell_type": "code",
   "execution_count": null,
   "metadata": {},
   "outputs": [],
   "source": [
    "plt.plot(f1s_large, avg_r_red_2, '.', color='red')\n",
    "plt.plot(f1s_large, avg_r_blu_2, '.', color='blue')\n",
    "#plt.plot(f1s_large, [get_r_circle(2*N, density, f1_) for f1_ in f1s_large], color='green')\n",
    "plt.plot(f1s_large, avg_sampled, '.', color='magenta')\n",
    "\n",
    "#plt.xlim(0.4, 1)\n",
    "#plt.ylim(10, 60)"
   ]
  },
  {
   "cell_type": "code",
   "execution_count": null,
   "metadata": {},
   "outputs": [],
   "source": [
    "ratio_sampled = list()\n",
    "ratio_th = list()\n",
    "\n",
    "for i in range(len(f1s_large)):\n",
    "    ratio_sampled.append(avg_r_blu_2[i]/avg_sampled[i])\n",
    "    ratio_th.append(avg_r_blu_2[i]/r_circle[i])"
   ]
  },
  {
   "cell_type": "code",
   "execution_count": null,
   "metadata": {},
   "outputs": [],
   "source": [
    "plt.plot(f1s_large, ratio_sampled, '.', color='red',label=\"exp. / teorico\")\n",
    "#plt.plot(f1s_large, ratio_th, '.', color='blue',label=\"exp. / teorico (expressao numerica)\")\n",
    "\n",
    "plt.xlim(0.5, 1)\n",
    "plt.ylim(0.2, 1.7)\n",
    "\n",
    "plt.xlabel(\"f1\")\n",
    "plt.ylabel(\"experimental / teorico\")\n",
    "\n",
    "plt.legend()\n",
    "plt.grid()"
   ]
  },
  {
   "cell_type": "code",
   "execution_count": null,
   "metadata": {},
   "outputs": [],
   "source": [
    "plt.plot(f1s_large, [r/(get_r(0, 0, 2*N)) for r in avg_r_red_2], '.', color='red')\n",
    "plt.plot(f1s_large, [r/(get_r(0, 0, 2*N)) for r in avg_r_blu_2], '.', color='blue')\n",
    "plt.plot(f1s_large, [r/(get_r(0, 0, 2*N)) for r in avg_sampled], '.', color='magenta')\n",
    "\n",
    "#plt.xlim(0, 1)\n",
    "#plt.ylim(0, 3)\n",
    "plt.grid()"
   ]
  },
  {
   "cell_type": "markdown",
   "metadata": {},
   "source": [
    "# For different densities:"
   ]
  },
  {
   "cell_type": "code",
   "execution_count": null,
   "metadata": {
    "scrolled": true
   },
   "outputs": [],
   "source": [
    "tmax = 0.9\n",
    "tmin = 0.1\n",
    "\n",
    "f1s_ = np.linspace(0.01, 0.99, 100)\n",
    "ds_ = np.linspace(0.3, 0.98, 100)\n",
    "\n",
    "d_reds = list()\n",
    "d_blues = list()\n",
    "\n",
    "for d in ds_:\n",
    "    print(\"d: \" + str(round(d, 2)) + '/' + '0.98')\n",
    "    avg_r_blu_d = list()\n",
    "    avg_r_red_d = list()\n",
    "    \n",
    "    for f1 in f1s_:\n",
    "        #print(\"> f1) \" + str(round(f1, 2)) + '/' + '0.99',end='\\r')\n",
    "        output = run(N=N, density=d, f1=f1, measure_r_values=True, tmax=tmax, tmin=tmin)\n",
    "    \n",
    "        avg_r_red_d.append(average(output['red_rs'][-1]))\n",
    "        avg_r_blu_d.append(average(output['blu_rs'][-1]))\n",
    "    \n",
    "    d_reds.append(avg_r_red_d)\n",
    "    d_blues.append(avg_r_blu_d)"
   ]
  },
  {
   "cell_type": "code",
   "execution_count": null,
   "metadata": {},
   "outputs": [],
   "source": [
    "from matplotlib import animation as ani\n",
    "%matplotlib notebook"
   ]
  },
  {
   "cell_type": "code",
   "execution_count": null,
   "metadata": {},
   "outputs": [],
   "source": [
    "def build_plots(i):\n",
    "    plt.cla()\n",
    "    plt.ylabel('average radius')\n",
    "    plt.xlabel('f1')\n",
    "    plt.xlim(0,1)\n",
    "    plt.ylim(0.2,1)\n",
    "    plt.text(0.45,0.8,\"d = \" + str(round(ds_[i], 3)))\n",
    "    plt.plot(f1s_, [r/(get_r(0, 0, N)) for r in d_reds[i]], '.', color='red',scaley=False, scalex=False)\n",
    "    plt.plot(f1s_, [r/(get_r(0, 0, N)) for r in d_blues[i]], '.', color='blue',scaley=False, scalex=False)"
   ]
  },
  {
   "cell_type": "code",
   "execution_count": null,
   "metadata": {},
   "outputs": [],
   "source": [
    "color = ['red', 'blue']\n",
    "fig = plt.figure()\n",
    "plt.ylabel('average radius')\n",
    "plt.xlabel('f1')\n",
    "plt.xlim(0,1)\n",
    "plt.ylim(0.2,1)\n",
    "plt.grid()\n",
    "\n",
    "animator = ani.FuncAnimation(fig, build_plots, interval = 100, frames=len(d_reds))\n",
    "plt.show()\n",
    "animator.save(\"d.gif\", writer=\"Pillow\")"
   ]
  },
  {
   "cell_type": "markdown",
   "metadata": {},
   "source": [
    "# Time iteration animation"
   ]
  },
  {
   "cell_type": "code",
   "execution_count": null,
   "metadata": {},
   "outputs": [],
   "source": [
    "N       = 100 # MATRIX SIZE\n",
    "density = 0.9 # POPULATION DENSITY ON LATICE\n",
    "f1      = 0.4 # STARTING POPULATION PERCENTAGE FOR RED POPULATION\n",
    "tmin    = 0.3 # MINIMUM TOLERANCE (BORDER CONDITION ON MAXIMUM R VALUE)\n",
    "tmax    = 0.7 # MAXIMUM TOLERANCE (BORDER CONDITION ON MINIMUM R VALUE)"
   ]
  },
  {
   "cell_type": "code",
   "execution_count": null,
   "metadata": {
    "scrolled": true
   },
   "outputs": [],
   "source": [
    "def draw_matrix_animation(frame,*fargs):\n",
    "    \n",
    "    matrix_ = fargs[0]\n",
    "    tol_matrix = fargs[1]\n",
    "    im = fargs[2]\n",
    "    \n",
    "    color_map = {-1: np.array([255, 0, 0]), # red\n",
    "             0: np.array([255, 255, 255]), # green\n",
    "             1: np.array([0, 0, 255])} # blue\n",
    "    \n",
    "    N_ = len(matrix_)\n",
    "    \n",
    "    new_matrix = iteration(matrix_, dis_algo, tol_matrix)\n",
    "    \n",
    "    matrix_ = new_matrix.copy()\n",
    "\n",
    "    if new_matrix == \"STOP\":\n",
    "        plt.text(0.5,0.5,\"Done!\")\n",
    "             \n",
    "    data_3d_ = np.ndarray(shape=(N_, N_, 3), dtype=int)\n",
    "    for i in range(0, N):\n",
    "        for j in range(0, N):\n",
    "            data_3d_[i][j] = color_map[new_matrix[i][j]]\n",
    "\n",
    "    #ax.cla()\n",
    "    \n",
    "    im.set_data(data_3d_)\n",
    "    #frame_text = plt.text(1.15,1.15,\"t = \" + str(frame))\n",
    "    ax.set_xticks([])\n",
    "    ax.set_yticks([])\n",
    "    #plt.show()"
   ]
  },
  {
   "cell_type": "code",
   "execution_count": null,
   "metadata": {},
   "outputs": [],
   "source": [
    "def init_draw_iterations(matrix_,tol_matrix,im):\n",
    "    #N_ = len(matrix_)\n",
    "    \n",
    "    #color_map = {-1: np.array([255, 0, 0]), # red\n",
    "             #0: np.array([255, 255, 255]), # green\n",
    "             #1: np.array([0, 0, 255])} # blue\n",
    "        \n",
    "    #data_3d = np.ndarray(shape=(N_, N_, 3), dtype=int)\n",
    "    #for i in range(0, N):\n",
    "        #for j in range(0, N):\n",
    "            #data_3d[i][j] = color_map[matrix_[i][j]]\n",
    "\n",
    "    #im.set_data(data_3d)\n",
    "    \n",
    "    print(\"Initializing...\")"
   ]
  },
  {
   "cell_type": "code",
   "execution_count": null,
   "metadata": {},
   "outputs": [],
   "source": [
    "fig_anim = plt.figure()\n",
    "\n",
    "ax = fig_anim.add_subplot(1, 1, 1)\n",
    "ax.set_xticks([])\n",
    "ax.set_yticks([])\n",
    "\n",
    "matrix_    = make_matrix(N, density, f1)\n",
    "tol_matrix = get_tol_matrix(N, tmax=tmax, tmin=tmin)\n",
    "#print_matrix(matrix_)\n",
    "\n",
    "N_ = len(matrix_)\n",
    "data_3d = np.ndarray(shape=(N_, N_, 3), dtype=int)\n",
    "for i in range(0, N):\n",
    "        for j in range(0, N):\n",
    "            data_3d[i][j] = color_map[matrix_[i][j]]\n",
    "im = ax.imshow(data_3d)\n",
    "#frame_text = plt.text(1.15,1.15,\"t = \" + str(0))\n",
    "\n",
    "animator = ani.FuncAnimation(fig_anim, draw_matrix_animation, init_func = init_draw_iterations(matrix_,tol_matrix,im), fargs = [matrix_,tol_matrix,im], interval = 100, frames=200)\n",
    "plt.show()\n",
    "#animator.save(\"sim.gif\", writer=\"Pillow\")"
   ]
  },
  {
   "cell_type": "markdown",
   "metadata": {},
   "source": [
    "# Morin Index Test"
   ]
  },
  {
   "cell_type": "code",
   "execution_count": null,
   "metadata": {},
   "outputs": [],
   "source": [
    "N       = 100 # MATRIX SIZE\n",
    "density = 0.9 # POPULATION DENSITY ON LATICE\n",
    "f1      = 0.7 # STARTING POPULATION PERCENTAGE FOR RED POPULATION\n",
    "tmin    = 0.2 # MINIMUM TOLERANCE (BORDER CONDITION ON MAXIMUM R VALUE)\n",
    "tmax    = 0.8 # MAXIMUM TOLERANCE (BORDER CONDITION ON MINIMUM R VALUE)"
   ]
  },
  {
   "cell_type": "code",
   "execution_count": null,
   "metadata": {},
   "outputs": [],
   "source": [
    "output = run(N=N, density=density, f1=f1, tmin=tmin, tmax=tmax, measure_r_values=False, measure_happiness=True, measure_morin=True, n_iter = 300)"
   ]
  },
  {
   "cell_type": "code",
   "execution_count": null,
   "metadata": {},
   "outputs": [],
   "source": [
    "print_matrix(output['matrix'])"
   ]
  },
  {
   "cell_type": "code",
   "execution_count": null,
   "metadata": {},
   "outputs": [],
   "source": [
    "plt.plot(output['happiness'],label=\"Happiness\")\n",
    "plt.plot(output['morin'],label=\"Morin I\")\n",
    "plt.xlabel(\"t\")\n",
    "plt.legend()"
   ]
  },
  {
   "cell_type": "markdown",
   "metadata": {},
   "source": [
    "# Sections"
   ]
  },
  {
   "cell_type": "code",
   "execution_count": null,
   "metadata": {},
   "outputs": [],
   "source": [
    "sections = get_sections(output['matrix'], r1=N/8, r2=N/4, r3=3.5*N/8)"
   ]
  },
  {
   "cell_type": "code",
   "execution_count": null,
   "metadata": {
    "scrolled": false
   },
   "outputs": [],
   "source": [
    "for i in range(4):\n",
    "    print_matrix(output['matrix'], marker=sections[i])"
   ]
  },
  {
   "cell_type": "markdown",
   "metadata": {},
   "source": [
    "# Moran Index By Section"
   ]
  },
  {
   "cell_type": "code",
   "execution_count": null,
   "metadata": {},
   "outputs": [],
   "source": [
    "N       = 50 # MATRIX SIZE\n",
    "density = 0.8 # POPULATION DENSITY ON LATICE\n",
    "f1      = 0.7 # STARTING POPULATION PERCENTAGE FOR RED POPULATION\n",
    "tmin    = 0.1 # MINIMUM TOLERANCE (BORDER CONDITION ON MAXIMUM R VALUE)\n",
    "tmax    = 0.9 # MAXIMUM TOLERANCE (BORDER CONDITION ON MINIMUM R VALUE)"
   ]
  },
  {
   "cell_type": "code",
   "execution_count": null,
   "metadata": {},
   "outputs": [],
   "source": [
    "sections = get_sections(make_matrix(N,density,f1), r1=N/8, r2=N/4, r3=3.5*N/8)"
   ]
  },
  {
   "cell_type": "code",
   "execution_count": null,
   "metadata": {},
   "outputs": [],
   "source": [
    "morin_sections = list()\n",
    "\n",
    "for i in range(200):\n",
    "    print(str(i) + '/' + str(200))\n",
    "    output = run(N=N, density=density, f1=f1, tmin=tmin, tmax=tmax, measure_r_values=False, measure_happiness=True, measure_morin=True, n_iter = 300)\n",
    "\n",
    "    morin_sections_temp = list()\n",
    "    for section in sections:\n",
    "        morin_sections_temp.append(get_morin_index_section(output['matrix'], section))\n",
    "        \n",
    "    morin_sections.append(morin_sections_temp)\n",
    "    "
   ]
  },
  {
   "cell_type": "code",
   "execution_count": null,
   "metadata": {},
   "outputs": [],
   "source": [
    "bins = np.linspace(0, 1, 50)\n",
    "\n",
    "plt.hist([morin_sections[i][0] for i in range(len(morin_sections))], bins=bins, color='blue' , density=True, alpha=0.4, label=\"section 0\")\n",
    "plt.hist([morin_sections[i][1] for i in range(len(morin_sections))], bins=bins, color='green' , density=True, alpha=0.4, label=\"section 1\")\n",
    "plt.hist([morin_sections[i][2] for i in range(len(morin_sections))], bins=bins, color='orange' , density=True, alpha=0.4, label=\"section 2\")\n",
    "plt.hist([morin_sections[i][3] for i in range(len(morin_sections))], bins=bins, color='red' , density=True, alpha=0.4, label=\"section 3\")\n",
    "#plt.xlim(0.65,1)\n",
    "plt.xlabel(\"moran index\")\n",
    "plt.ylabel(\"# of runs\")\n",
    "plt.legend()"
   ]
  },
  {
   "cell_type": "markdown",
   "metadata": {},
   "source": [
    "# Moran VS. Density (for different f1 > 50%)"
   ]
  },
  {
   "cell_type": "code",
   "execution_count": null,
   "metadata": {},
   "outputs": [],
   "source": [
    "N       = 100 # MATRIX SIZE\n",
    "#density = 0.8 # POPULATION DENSITY ON LATICE\n",
    "#f1      = 0.7 # STARTING POPULATION PERCENTAGE FOR RED POPULATION\n",
    "tmin    = 0.1 # MINIMUM TOLERANCE (BORDER CONDITION ON MAXIMUM R VALUE)\n",
    "tmax    = 0.9 # MAXIMUM TOLERANCE (BORDER CONDITION ON MINIMUM R VALUE)\n",
    "\n",
    "ds = np.linspace(0.2, 0.95, 100)\n",
    "f1s = np.linspace(0.5, 0.9, 5)"
   ]
  },
  {
   "cell_type": "code",
   "execution_count": null,
   "metadata": {},
   "outputs": [],
   "source": [
    "morans = list()\n",
    "i = 0\n",
    "\n",
    "for f1 in f1s:\n",
    "    morans_by_d = list()\n",
    "    \n",
    "    for d in ds:\n",
    "        print(str(i) + '/' + str(500))\n",
    "        output = run(N=N, density=d, f1=f1, tmin=tmin, tmax=tmax, measure_r_values=False, measure_happiness=False, measure_morin=True, n_iter = 300)\n",
    "        morans_by_d.append(output['morin'][-1])\n",
    "        i += 1\n",
    "        \n",
    "    morans.append(morans_by_d)"
   ]
  },
  {
   "cell_type": "code",
   "execution_count": null,
   "metadata": {},
   "outputs": [],
   "source": [
    "for j in range(5):\n",
    "    plt.plot(ds, [morans[j][i] for i in range(len(morans[j]))], '.', label=\"f1 = \" + str(f1s[j]))\n",
    "plt.legend()\n",
    "plt.xlabel(\"density\")\n",
    "plt.ylabel(\"moran index\")"
   ]
  },
  {
   "cell_type": "markdown",
   "metadata": {},
   "source": [
    "# Studying influence of r-dependant tolerance with average r"
   ]
  },
  {
   "cell_type": "code",
   "execution_count": null,
   "metadata": {},
   "outputs": [],
   "source": [
    "N       = 100 # MATRIX SIZE\n",
    "density = 0.7 # POPULATION DENSITY ON LATICE\n",
    "#tmax = 0.9\n",
    "tmin = 0.1\n",
    "f1 = 0.65\n",
    "\n",
    "ts = np.linspace(tmin, 0.9, 100)"
   ]
  },
  {
   "cell_type": "code",
   "execution_count": null,
   "metadata": {},
   "outputs": [],
   "source": [
    "avg_r_blue = list()\n",
    "avg_r_red = list()\n",
    "happiness = list()\n",
    "    \n",
    "for t in ts:\n",
    "    print(str(round(t, 3)) + '/' + str(round(7/8,3)))\n",
    "    output = run(N=N, density=density, f1=f1, measure_r_values=True, measure_happiness=True, tmax=t, tmin=tmin)\n",
    "        \n",
    "    avg_r_red.append(average(output['red_rs'][-1]))\n",
    "    avg_r_blue.append(average(output['blu_rs'][-1]))\n",
    "    happiness.append(output['happiness'][-1])"
   ]
  },
  {
   "cell_type": "code",
   "execution_count": null,
   "metadata": {},
   "outputs": [],
   "source": [
    "plt.plot(ts, [r/(get_r(0, 0, N)) for r in avg_r_red], '.', color='red',label=\"minority\")\n",
    "plt.plot(ts, [r/(get_r(0, 0, N)) for r in avg_r_blue], '.', color='blue',label=\"majority\")\n",
    "#plt.plot(ts, happiness, '.', color='black',label=\"majority\")\n",
    "plt.xlabel(\"t max\")\n",
    "plt.ylabel(\"average r\")\n",
    "plt.xlim(0.1,0.55)\n",
    "plt.text(0.5,0.45,\"t min = \" + str(tmin))\n",
    "plt.legend(frameon=False)"
   ]
  }
 ],
 "metadata": {
  "kernelspec": {
   "display_name": "Python 3",
   "language": "python",
   "name": "python3"
  },
  "language_info": {
   "codemirror_mode": {
    "name": "ipython",
    "version": 3
   },
   "file_extension": ".py",
   "mimetype": "text/x-python",
   "name": "python",
   "nbconvert_exporter": "python",
   "pygments_lexer": "ipython3",
   "version": "3.8.8"
  }
 },
 "nbformat": 4,
 "nbformat_minor": 2
}
